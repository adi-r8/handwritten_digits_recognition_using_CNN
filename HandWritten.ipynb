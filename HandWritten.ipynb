{
  "nbformat": 4,
  "nbformat_minor": 0,
  "metadata": {
    "colab": {
      "name": "Social_distancing.ipynb",
      "provenance": [],
      "collapsed_sections": []
    },
    "kernelspec": {
      "name": "python3",
      "display_name": "Python 3"
    },
    "accelerator": "GPU"
  },
  "cells": [
    {
      "cell_type": "code",
      "metadata": {
        "id": "l-ZQsXissMI6",
        "colab_type": "code",
        "colab": {}
      },
      "source": [
        "### DATA LOADING AND AUGMENTATION"
      ],
      "execution_count": null,
      "outputs": []
    },
    {
      "cell_type": "code",
      "metadata": {
        "id": "AD7s7QgZ9Bn-",
        "colab_type": "code",
        "colab": {
          "base_uri": "https://localhost:8080/",
          "height": 285
        },
        "outputId": "433c1094-0ac1-46b1-9fab-d80052911292"
      },
      "source": [
        "%matplotlib inline\n",
        "from matplotlib import pyplot as plt\n",
        "import cv2\n",
        "import numpy as np\n",
        "\n",
        "image = []\n",
        "image.append(cv2.imread('/content/drive/My Drive/Data/hand/0_0.png'))\n",
        "image.append(cv2.imread('/content/drive/My Drive/Data/hand/0_1.png'))\n",
        "image.append(cv2.imread('/content/drive/My Drive/Data/hand/0_2.png'))\n",
        "image.append(cv2.imread('/content/drive/My Drive/Data/hand/0_3.png'))\n",
        "image.append(cv2.imread('/content/drive/My Drive/Data/hand/0_4.png'))\n",
        "image.append(cv2.imread('/content/drive/My Drive/Data/hand/0_5.png'))\n",
        "\n",
        "y_label = [0,1,2,3,4,5]\n",
        "y_train = np.asarray(y_label)\n",
        "image = np.asarray(image)\n",
        "plt.imshow(image[1,:,:,:])\n",
        "plt.show()\n",
        "x_train = np.asarray(image)\n",
        "x_train.shape"
      ],
      "execution_count": null,
      "outputs": [
        {
          "output_type": "display_data",
          "data": {
            "image/png": "[encoded data removed]",
            "text/plain": [
              "<Figure size 432x288 with 1 Axes>"
            ]
          },
          "metadata": {
            "tags": [],
            "needs_background": "light"
          }
        },
        {
          "output_type": "execute_result",
          "data": {
            "text/plain": [
              "(6, 128, 128, 3)"
            ]
          },
          "metadata": {
            "tags": []
          },
          "execution_count": 2
        }
      ]
    },
    {
      "cell_type": "code",
      "metadata": {
        "id": "5h7wdaQeanmz",
        "colab_type": "code",
        "colab": {}
      },
      "source": [
        "from tensorflow.keras import layers\n",
        "import tensorflow as tf"
      ],
      "execution_count": null,
      "outputs": []
    },
    {
      "cell_type": "code",
      "metadata": {
        "id": "UglNXzTT9BtI",
        "colab_type": "code",
        "colab": {}
      },
      "source": [
        "data_augmentation = tf.keras.Sequential([\n",
        "  layers.experimental.preprocessing.RandomFlip(\"horizontal_and_vertical\"),\n",
        "  layers.experimental.preprocessing.RandomRotation(0.3),\n",
        "])"
      ],
      "execution_count": null,
      "outputs": []
    },
    {
      "cell_type": "code",
      "metadata": {
        "id": "LmeRtE3s9Byx",
        "colab_type": "code",
        "colab": {}
      },
      "source": [
        "for i in range(1000):\n",
        "  augmented_image = data_augmentation(image)\n",
        "  x_train=np.append(x_train,augmented_image,axis=0)\n",
        "  y_train=np.append(y_train,y_label,axis=0)\n",
        "  "
      ],
      "execution_count": null,
      "outputs": []
    },
    {
      "cell_type": "code",
      "metadata": {
        "id": "bi40Gce7qahp",
        "colab_type": "code",
        "colab": {
          "base_uri": "https://localhost:8080/",
          "height": 34
        },
        "outputId": "61e82a83-187a-41ba-856b-709a52bbfc79"
      },
      "source": [
        "x_train.shape,y_train.shape"
      ],
      "execution_count": null,
      "outputs": [
        {
          "output_type": "execute_result",
          "data": {
            "text/plain": [
              "((6006, 128, 128, 3), (6006,))"
            ]
          },
          "metadata": {
            "tags": []
          },
          "execution_count": 6
        }
      ]
    },
    {
      "cell_type": "code",
      "metadata": {
        "id": "FmKx0htFrSTj",
        "colab_type": "code",
        "colab": {
          "base_uri": "https://localhost:8080/",
          "height": 34
        },
        "outputId": "4b8b0f84-7fa6-42dd-8f29-1c77d59265b2"
      },
      "source": [
        "x_train1 = x_train+5\n",
        "x_train2 = x_train+200\n",
        "x_train=np.append(x_train,x_train1,axis=0)\n",
        "x_train=np.append(x_train,x_train1,axis=0)\n",
        "\n",
        "y_train1 = y_train\n",
        "y_train=np.append(y_train,y_train1,axis=0)\n",
        "y_train=np.append(y_train,y_train1,axis=0)\n",
        "\n",
        "x_train = x_train.astype('float32')\n",
        "images = image.astype('float32')\n",
        "\n",
        "x_train=x_train/255\n",
        "x_train.shape,y_train.shape"
      ],
      "execution_count": null,
      "outputs": [
        {
          "output_type": "execute_result",
          "data": {
            "text/plain": [
              "((18018, 128, 128, 3), (18018,))"
            ]
          },
          "metadata": {
            "tags": []
          },
          "execution_count": 7
        }
      ]
    },
    {
      "cell_type": "code",
      "metadata": {
        "id": "G_lxHTpfqNg_",
        "colab_type": "code",
        "colab": {}
      },
      "source": [
        "x_test = image\n",
        "y_test= np.asarray(y_label)"
      ],
      "execution_count": null,
      "outputs": []
    },
    {
      "cell_type": "code",
      "metadata": {
        "id": "Czi1gEzPqgfe",
        "colab_type": "code",
        "colab": {}
      },
      "source": [
        "\n",
        "data_augmentation = tf.keras.Sequential([\n",
        "  layers.experimental.preprocessing.RandomFlip(\"horizontal_and_vertical\"),\n",
        "  layers.experimental.preprocessing.RandomRotation(0.5),\n",
        "])\n",
        "\n",
        "\n",
        "for i in range(250):\n",
        "  augmented_image = data_augmentation(image)\n",
        "  x_test=np.append(x_test,augmented_image,axis=0)\n",
        "  y_test=np.append(y_test,y_label,axis=0)"
      ],
      "execution_count": null,
      "outputs": []
    },
    {
      "cell_type": "code",
      "metadata": {
        "id": "5pTJihywq4mM",
        "colab_type": "code",
        "colab": {
          "base_uri": "https://localhost:8080/",
          "height": 34
        },
        "outputId": "7976f7ca-ec8f-4251-a16e-1cf01cea36ca"
      },
      "source": [
        "x_test = np.append(x_test, x_test+20,axis=0)\n",
        "y_test =np.append(y_test,y_test,axis=0)\n",
        "x_test = x_test.astype('float32')\n",
        "\n",
        "x_test=x_test/255\n",
        "x_test.shape,y_test.shape"
      ],
      "execution_count": null,
      "outputs": [
        {
          "output_type": "execute_result",
          "data": {
            "text/plain": [
              "((3012, 128, 128, 3), (3012,))"
            ]
          },
          "metadata": {
            "tags": []
          },
          "execution_count": 10
        }
      ]
    },
    {
      "cell_type": "code",
      "metadata": {
        "id": "yRA8g3XCsa3X",
        "colab_type": "code",
        "colab": {}
      },
      "source": [
        "### MODEL"
      ],
      "execution_count": null,
      "outputs": []
    },
    {
      "cell_type": "code",
      "metadata": {
        "id": "t-7cEcaKlO3R",
        "colab_type": "code",
        "colab": {}
      },
      "source": [
        "from keras.models import Model\n",
        "from tensorflow.keras.models import Sequential\n",
        "from tensorflow.keras.layers import Dense, Conv2D, Dropout, Flatten, MaxPooling2D, AveragePooling2D\n",
        "\n",
        "\n",
        "model = Sequential()\n",
        "\n",
        "\n",
        "model.add(Conv2D(32, kernel_size=(3,3),strides=(1,1), input_shape=x_train.shape[1:],padding=\"same\",activation=tf.nn.relu))\n",
        "model.add(MaxPooling2D(pool_size=(2, 2),strides=(2,2),padding=\"valid\"))\n",
        "\n",
        "\n",
        "model.add(Conv2D(8, kernel_size=(1,1),strides=(1,1),padding=\"same\",activation=tf.nn.relu))\n",
        "\n",
        "\n",
        "model.add(Conv2D(16, kernel_size=(3,3),strides=(1,1),padding=\"same\",activation=tf.nn.relu))\n",
        "model.add(AveragePooling2D(pool_size=(2,2),strides=(2,2),padding=\"valid\"))\n",
        "\n",
        "\n",
        "model.add(Conv2D(8, kernel_size=(1,1),strides=(1,1),padding=\"same\",activation=tf.nn.relu))\n",
        "model.add(AveragePooling2D(pool_size=(2, 2),strides=(2,2),padding=\"valid\"))\n",
        "\n",
        "# Flatten_Dense_Network\n",
        "model.add(Flatten()) \n",
        "model.add(Dense(128, activation=tf.nn.relu))\n",
        "model.add(Dropout(0.2)) \n",
        "model.add(Dense(32, activation=tf.nn.relu))\n",
        "\n",
        "#Softmax Layer with 6 neurons in output layer\n",
        "model.add(Dense(6,activation=tf.nn.softmax))"
      ],
      "execution_count": null,
      "outputs": []
    },
    {
      "cell_type": "code",
      "metadata": {
        "id": "2gi4aumJlO8w",
        "colab_type": "code",
        "colab": {
          "base_uri": "https://localhost:8080/",
          "height": 204
        },
        "outputId": "85b8f072-c8b0-4714-8951-a6dd4174f17a"
      },
      "source": [
        "model.compile(optimizer='adam', \n",
        "              loss='sparse_categorical_crossentropy', \n",
        "              metrics=['accuracy'])\n",
        "model.fit(x=x_train,y=y_train,batch_size=64, epochs=5)"
      ],
      "execution_count": null,
      "outputs": [
        {
          "output_type": "stream",
          "text": [
            "Epoch 1/5\n",
            "282/282 [==============================] - 5s 19ms/step - loss: 0.3516 - accuracy: 0.8771\n",
            "Epoch 2/5\n",
            "282/282 [==============================] - 5s 19ms/step - loss: 0.0024 - accuracy: 0.9994\n",
            "Epoch 3/5\n",
            "282/282 [==============================] - 5s 19ms/step - loss: 0.0056 - accuracy: 0.9985\n",
            "Epoch 4/5\n",
            "282/282 [==============================] - 5s 19ms/step - loss: 9.5416e-04 - accuracy: 0.9998\n",
            "Epoch 5/5\n",
            "282/282 [==============================] - 5s 19ms/step - loss: 0.0014 - accuracy: 0.9997\n"
          ],
          "name": "stdout"
        },
        {
          "output_type": "execute_result",
          "data": {
            "text/plain": [
              "<tensorflow.python.keras.callbacks.History at 0x7f44a7f5a668>"
            ]
          },
          "metadata": {
            "tags": []
          },
          "execution_count": 17
        }
      ]
    },
    {
      "cell_type": "code",
      "metadata": {
        "id": "Gy4Q0m79lO--",
        "colab_type": "code",
        "colab": {
          "base_uri": "https://localhost:8080/",
          "height": 51
        },
        "outputId": "613cc75a-1f23-4710-cc4f-ef6e9e933209"
      },
      "source": [
        "Accuracy_test = model.evaluate(x_test, y_test)\n",
        "Accuracy_train = model.evaluate(x_train,y_train)\n"
      ],
      "execution_count": null,
      "outputs": [
        {
          "output_type": "stream",
          "text": [
            "95/95 [==============================] - 0s 5ms/step - loss: 0.0084 - accuracy: 0.9983\n",
            "564/564 [==============================] - 3s 5ms/step - loss: 0.0048 - accuracy: 0.9991\n"
          ],
          "name": "stdout"
        }
      ]
    },
    {
      "cell_type": "code",
      "metadata": {
        "id": "7x_BYmTJ_H_h",
        "colab_type": "code",
        "colab": {
          "base_uri": "https://localhost:8080/",
          "height": 561
        },
        "outputId": "c128989e-b086-4bdf-bca9-1cdaa3658ba7"
      },
      "source": [
        "model.summary()"
      ],
      "execution_count": null,
      "outputs": [
        {
          "output_type": "stream",
          "text": [
            "Model: \"sequential_3\"\n",
            "_________________________________________________________________\n",
            "Layer (type)                 Output Shape              Param #   \n",
            "=================================================================\n",
            "conv2d_4 (Conv2D)            (None, 128, 128, 32)      896       \n",
            "_________________________________________________________________\n",
            "max_pooling2d_1 (MaxPooling2 (None, 64, 64, 32)        0         \n",
            "_________________________________________________________________\n",
            "conv2d_5 (Conv2D)            (None, 64, 64, 8)         264       \n",
            "_________________________________________________________________\n",
            "conv2d_6 (Conv2D)            (None, 64, 64, 16)        1168      \n",
            "_________________________________________________________________\n",
            "average_pooling2d_2 (Average (None, 32, 32, 16)        0         \n",
            "_________________________________________________________________\n",
            "conv2d_7 (Conv2D)            (None, 32, 32, 8)         136       \n",
            "_________________________________________________________________\n",
            "average_pooling2d_3 (Average (None, 16, 16, 8)         0         \n",
            "_________________________________________________________________\n",
            "flatten_1 (Flatten)          (None, 2048)              0         \n",
            "_________________________________________________________________\n",
            "dense_4 (Dense)              (None, 128)               262272    \n",
            "_________________________________________________________________\n",
            "dropout_2 (Dropout)          (None, 128)               0         \n",
            "_________________________________________________________________\n",
            "dense_5 (Dense)              (None, 32)                4128      \n",
            "_________________________________________________________________\n",
            "dense_6 (Dense)              (None, 6)                 198       \n",
            "=================================================================\n",
            "Total params: 269,062\n",
            "Trainable params: 269,062\n",
            "Non-trainable params: 0\n",
            "_________________________________________________________________\n"
          ],
          "name": "stdout"
        }
      ]
    }
  ]
}