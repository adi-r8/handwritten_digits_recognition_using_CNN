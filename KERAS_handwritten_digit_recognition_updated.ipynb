{
  "nbformat": 4,
  "nbformat_minor": 0,
  "metadata": {
    "colab": {
      "name": "KERAS_handwritten_digit_recognition_updated.ipynb",
      "provenance": [],
      "collapsed_sections": []
    },
    "kernelspec": {
      "display_name": "Python 3",
      "language": "python",
      "name": "python3"
    },
    "language_info": {
      "codemirror_mode": {
        "name": "ipython",
        "version": 3
      },
      "file_extension": ".py",
      "mimetype": "text/x-python",
      "name": "python",
      "nbconvert_exporter": "python",
      "pygments_lexer": "ipython3",
      "version": "3.7.6"
    },
    "accelerator": "GPU"
  },
  "cells": [
    {
      "cell_type": "code",
      "metadata": {
        "colab_type": "code",
        "id": "wJYMRm18Kkxh",
        "colab": {}
      },
      "source": [
        "import matplotlib.pyplot as plt\n",
        "from tensorflow.keras.models import Sequential\n",
        "from tensorflow.keras.layers import Dense, Conv2D, Dropout, Flatten, MaxPooling2D, AveragePooling2D\n",
        "import tensorflow as tf\n",
        "(x_train_orig, y_train_orig), (x_test_orig, y_test_orig) = tf.keras.datasets.mnist.load_data()"
      ],
      "execution_count": null,
      "outputs": []
    },
    {
      "cell_type": "code",
      "metadata": {
        "colab_type": "code",
        "id": "adt59tPmKm_3",
        "colab": {
          "base_uri": "https://localhost:8080/",
          "height": 299
        },
        "outputId": "26cd88a3-d5a3-4408-dd9d-00064e97c7af"
      },
      "source": [
        "image_index = 8\n",
        "print(y_train_orig[image_index]) \n",
        "plt.imshow(x_train_orig[image_index])"
      ],
      "execution_count": null,
      "outputs": [
        {
          "output_type": "stream",
          "text": [
            "1\n"
          ],
          "name": "stdout"
        },
        {
          "output_type": "execute_result",
          "data": {
            "text/plain": [
              "<matplotlib.image.AxesImage at 0x7f8e7071c208>"
            ]
          },
          "metadata": {
            "tags": []
          },
          "execution_count": 29
        },
        {
          "output_type": "display_data",
          "data": {
            "image/png": "[encoded data removed]",
            "text/plain": [
              "<Figure size 432x288 with 1 Axes>"
            ]
          },
          "metadata": {
            "tags": [],
            "needs_background": "light"
          }
        }
      ]
    },
    {
      "cell_type": "code",
      "metadata": {
        "colab_type": "code",
        "id": "79eL1iuYKnFj",
        "colab": {
          "base_uri": "https://localhost:8080/",
          "height": 102
        },
        "outputId": "948e76dc-cde9-4b38-e804-cfbf37b55d1a"
      },
      "source": [
        "print(x_train_orig.shape)\n",
        "\n",
        "x_train = x_train_orig.reshape(x_train_orig.shape[0], x_train_orig.shape[1], x_train_orig.shape[2], 1)\n",
        "x_test = x_test_orig.reshape(x_test_orig.shape[0], x_test_orig.shape[1], x_test_orig.shape[2], 1)\n",
        "\n",
        "x_train = x_train.astype('float32')\n",
        "x_test = x_test.astype('float32')\n",
        "\n",
        "x_train /= 255\n",
        "x_test /= 255\n",
        "print('x_train shape:', x_train.shape)\n",
        "print('Number of examples in training set =', x_train.shape[0])\n",
        "print('Number of examples in test set =', x_test.shape[0])\n",
        "y_train_orig.shape"
      ],
      "execution_count": null,
      "outputs": [
        {
          "output_type": "stream",
          "text": [
            "(60000, 28, 28)\n",
            "x_train shape: (60000, 28, 28, 1)\n",
            "Number of examples in training set = 60000\n",
            "Number of examples in test set = 10000\n"
          ],
          "name": "stdout"
        },
        {
          "output_type": "execute_result",
          "data": {
            "text/plain": [
              "(60000,)"
            ]
          },
          "metadata": {
            "tags": []
          },
          "execution_count": 30
        }
      ]
    },
    {
      "cell_type": "code",
      "metadata": {
        "colab_type": "code",
        "id": "F1Amhw9JKnIZ",
        "colab": {}
      },
      "source": [
        "model = Sequential()\n",
        "\n",
        "model.add(Conv2D(256, kernel_size=(3,3),strides=(1,1), input_shape=x_train.shape[1:],padding=\"same\",activation=tf.nn.relu))\n",
        "\n",
        "\n",
        "model.add(Conv2D(16, kernel_size=(1,1),strides=(1,1),padding=\"same\",activation=tf.nn.relu))\n",
        "\n",
        "\n",
        "model.add(Conv2D(64, kernel_size=(3,3),strides=(1,1),padding=\"same\",activation=tf.nn.relu))\n",
        "\n",
        "model.add(AveragePooling2D(pool_size=(2,2),strides=(2,2),padding=\"valid\"))\n",
        "\n",
        "\n",
        "# Flatten_Dense_Network\n",
        "model.add(Flatten()) \n",
        "model.add(Dense(256, activation=tf.nn.relu))\n",
        "model.add(Dropout(0.2)) \n",
        "model.add(Dense(128, activation=tf.nn.relu))\n",
        "model.add(Dense(128, activation=tf.nn.relu))\n",
        "model.add(Dropout(0.2)) \n",
        "model.add(Dense(32, activation=tf.nn.relu))\n",
        "\n",
        "#Softmax Layer with 10 neurons in output layer\n",
        "model.add(Dense(10,activation=tf.nn.softmax))"
      ],
      "execution_count": null,
      "outputs": []
    },
    {
      "cell_type": "code",
      "metadata": {
        "colab_type": "code",
        "id": "sO_rDiANKnLW",
        "colab": {
          "base_uri": "https://localhost:8080/",
          "height": 204
        },
        "outputId": "a2e5a1af-7e5d-424f-eee3-596b0dda8d72"
      },
      "source": [
        "# using ADAM optimizer\n",
        "model.compile(optimizer='adam', \n",
        "              loss='sparse_categorical_crossentropy', \n",
        "              metrics=['accuracy'])\n",
        "model.fit(x=x_train,y=y_train_orig,batch_size=64, epochs=5)"
      ],
      "execution_count": null,
      "outputs": [
        {
          "output_type": "stream",
          "text": [
            "Epoch 1/5\n",
            "938/938 [==============================] - 9s 9ms/step - loss: 0.2160 - accuracy: 0.9338\n",
            "Epoch 2/5\n",
            "938/938 [==============================] - 8s 9ms/step - loss: 0.0668 - accuracy: 0.9811\n",
            "Epoch 3/5\n",
            "938/938 [==============================] - 8s 9ms/step - loss: 0.0475 - accuracy: 0.9867\n",
            "Epoch 4/5\n",
            "938/938 [==============================] - 8s 9ms/step - loss: 0.0359 - accuracy: 0.9901\n",
            "Epoch 5/5\n",
            "938/938 [==============================] - 8s 9ms/step - loss: 0.0279 - accuracy: 0.9921\n"
          ],
          "name": "stdout"
        },
        {
          "output_type": "execute_result",
          "data": {
            "text/plain": [
              "<tensorflow.python.keras.callbacks.History at 0x7f8e706401d0>"
            ]
          },
          "metadata": {
            "tags": []
          },
          "execution_count": 32
        }
      ]
    },
    {
      "cell_type": "code",
      "metadata": {
        "colab_type": "code",
        "id": "xZd-3nj9KnON",
        "colab": {
          "base_uri": "https://localhost:8080/",
          "height": 51
        },
        "outputId": "f2c9ffc7-63a7-4627-b12f-5c3653fea80d"
      },
      "source": [
        "\n",
        "Accuracy_test = model.evaluate(x_test, y_test_orig)\n",
        "Accuracy_train = model.evaluate(x_train,y_train_orig)\n"
      ],
      "execution_count": null,
      "outputs": [
        {
          "output_type": "stream",
          "text": [
            "313/313 [==============================] - 1s 3ms/step - loss: 0.0288 - accuracy: 0.9924\n",
            "1875/1875 [==============================] - 5s 3ms/step - loss: 0.0095 - accuracy: 0.9973\n"
          ],
          "name": "stdout"
        }
      ]
    },
    {
      "cell_type": "code",
      "metadata": {
        "colab_type": "code",
        "id": "HhAMonU9KnTr",
        "colab": {
          "base_uri": "https://localhost:8080/",
          "height": 85
        },
        "outputId": "088ff5ed-50dc-48f6-ef1e-269356e28bd9"
      },
      "source": [
        "print(\"\\nTraining set accuracy = \"+str(Accuracy_train[1]))\n",
        "print(\"\\nTest set accuracy = \"+str(Accuracy_test[1]))\n"
      ],
      "execution_count": null,
      "outputs": [
        {
          "output_type": "stream",
          "text": [
            "\n",
            "Training set accuracy = 0.9973499774932861\n",
            "\n",
            "Test set accuracy = 0.9923999905586243\n"
          ],
          "name": "stdout"
        }
      ]
    },
    {
      "cell_type": "code",
      "metadata": {
        "id": "Aax338E089NJ",
        "colab_type": "code",
        "colab": {
          "base_uri": "https://localhost:8080/",
          "height": 561
        },
        "outputId": "210b3c08-a71b-4899-fd48-8695aa53f523"
      },
      "source": [
        "model.summary()"
      ],
      "execution_count": null,
      "outputs": [
        {
          "output_type": "stream",
          "text": [
            "Model: \"sequential_4\"\n",
            "_________________________________________________________________\n",
            "Layer (type)                 Output Shape              Param #   \n",
            "=================================================================\n",
            "conv2d_12 (Conv2D)           (None, 28, 28, 256)       2560      \n",
            "_________________________________________________________________\n",
            "conv2d_13 (Conv2D)           (None, 28, 28, 16)        4112      \n",
            "_________________________________________________________________\n",
            "conv2d_14 (Conv2D)           (None, 28, 28, 64)        9280      \n",
            "_________________________________________________________________\n",
            "average_pooling2d_6 (Average (None, 14, 14, 64)        0         \n",
            "_________________________________________________________________\n",
            "flatten_4 (Flatten)          (None, 12544)             0         \n",
            "_________________________________________________________________\n",
            "dense_20 (Dense)             (None, 256)               3211520   \n",
            "_________________________________________________________________\n",
            "dropout_8 (Dropout)          (None, 256)               0         \n",
            "_________________________________________________________________\n",
            "dense_21 (Dense)             (None, 128)               32896     \n",
            "_________________________________________________________________\n",
            "dense_22 (Dense)             (None, 128)               16512     \n",
            "_________________________________________________________________\n",
            "dropout_9 (Dropout)          (None, 128)               0         \n",
            "_________________________________________________________________\n",
            "dense_23 (Dense)             (None, 32)                4128      \n",
            "_________________________________________________________________\n",
            "dense_24 (Dense)             (None, 10)                330       \n",
            "=================================================================\n",
            "Total params: 3,281,338\n",
            "Trainable params: 3,281,338\n",
            "Non-trainable params: 0\n",
            "_________________________________________________________________\n"
          ],
          "name": "stdout"
        }
      ]
    }
  ]
}